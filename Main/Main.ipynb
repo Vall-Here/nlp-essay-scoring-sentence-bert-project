{
 "cells": [
  {
   "cell_type": "code",
   "execution_count": 15,
   "id": "7fec212f",
   "metadata": {},
   "outputs": [],
   "source": [
    "import pandas as pd\n",
    "import matplotlib.pyplot as plt\n",
    "import seaborn as sns"
   ]
  },
  {
   "cell_type": "markdown",
   "id": "82a8b1cc",
   "metadata": {},
   "source": [
    "# Data Understanding\n"
   ]
  },
  {
   "cell_type": "code",
   "execution_count": 16,
   "id": "c2bd1ac5",
   "metadata": {},
   "outputs": [],
   "source": [
    "train_a = pd.read_csv('../Dataset/Data_A/data_train_A.csv')\n",
    "dev_a = pd.read_csv('../Dataset/Data_A/data_dev_A.csv')\n",
    "test_a = pd.read_csv('../Dataset/Data_A/data_test_A.csv')\n",
    "train_b = pd.read_csv('../Dataset/Data_B/data_train_B.csv')\n",
    "dev_b = pd.read_csv('../Dataset/Data_B/data_dev_B.csv')\n",
    "test_b = pd.read_csv('../Dataset/Data_B/data_test_B.csv')"
   ]
  },
  {
   "cell_type": "code",
   "execution_count": 17,
   "id": "4fa2d66c",
   "metadata": {},
   "outputs": [
    {
     "name": "stdout",
     "output_type": "stream",
     "text": [
      "Data Train A:\n",
      "  RES_ID                                           RESPONSE  LABEL\n",
      "0   TRA1  intetraksi/beradaptasi terhadap lingkungan yan...      1\n",
      "1   TRA2         seperti jatuhnya meteor tsunami gempa bumi      0\n",
      "2   TRA3      hanya tuhan yang tahu tantangan nya itu apaan      0\n",
      "3   TRA4                      mereka akan sulit beradaptasi      1\n",
      "4   TRA5             Tempat tinggal, ekonomi, dan pekerjaan      1\n",
      "\n",
      "Kolom: ['RES_ID', 'RESPONSE', 'LABEL']\n"
     ]
    }
   ],
   "source": [
    "print(\"Data Train A:\")\n",
    "print(train_a.head())\n",
    "print(\"\\nKolom:\", train_a.columns.tolist())"
   ]
  },
  {
   "cell_type": "code",
   "execution_count": 18,
   "id": "d7375a66",
   "metadata": {},
   "outputs": [
    {
     "name": "stdout",
     "output_type": "stream",
     "text": [
      "Data Train B:\n",
      "  RES_ID                                           RESPONSE  LABEL\n",
      "0   TRB1  Karena orang berpikir bahwa jika disumbangkan ...      1\n",
      "1   TRB2  Pakaian awet adalah alternatif terhadap Fast F...      0\n",
      "2   TRB3                  karna orang lebih suka menyumbang      1\n",
      "3   TRB4               karana harga nya terjangkau dan pas.      0\n",
      "4   TRB5                            kerena harganya mahal .      0\n",
      "\n",
      "Kolom: ['RES_ID', 'RESPONSE', 'LABEL']\n"
     ]
    }
   ],
   "source": [
    "print(\"Data Train B:\")\n",
    "print(train_b.head())\n",
    "print(\"\\nKolom:\", train_b.columns.tolist())"
   ]
  },
  {
   "cell_type": "code",
   "execution_count": 19,
   "id": "4073ac93",
   "metadata": {},
   "outputs": [],
   "source": [
    "stimulus_a = [\"Pemanasan global terjadi karena peningkatan produksi karbon dioksida yang dihasilkan oleh pembakaran fosil dan konsumsi bahan bakar yang tinggi.\",\n",
    "\"Salah satu akibat adalah mencairnya es abadi di kutub utara dan selatan yang menimbulkan naiknya ketinggian air laut.\",\n",
    "\"kenaikan air laut akan terjadi terus menerus meskipun dalam hitungan centimeter akan mengakibatkan perubahan yang signifikan.\",\n",
    "\"Film “Waterworld”, adalah film fiksi ilmiah yang menunjukkan akibat adanya pemanasan global yang sangat besar sehingga menyebabkan bumi menjadi tertutup oleh lautan.\",\n",
    "\"Negara-negara dan daratan yang dulunya kering menjadi tengelamn karena terjadi kenaikan permukaan air laut.\",\n",
    "\"Penduduk yang dulunya bisa berkehidupan bebas menjadi terpaksa mengungsi ke daratan yang lebih tinggi atau tinggal diatas air.\",\n",
    "\"Apa yang akan menjadi tantangan bagi suatu penduduk ketika terjadi situasi daratan tidak dapat ditinggali kembali karena tengelam oleh naiknya air laut.\"]\n",
    "\n",
    "stimulus_b = [\"Sebuah toko baju berkonsep self-service menawarkan promosi dua buah baju bertema tahun baru seharga Rp50.000,00. sebelum baju bertema tahun baru dibagikan kepada pembeli, sebuah layar akan menampilkan tampilan gambar yang menampilkan kondisi kerja di dalam sebuah pabrik konveksi/pembuatan baju. \",\n",
    "\"Kemudian pembeli diberi program pilihan untuk menyelesaikan pembeliannya atau menyumpangkan Rp50.000,00 untuk dijadikan donasi pembagian baju musim dingin di suatu daerah yang membutuhkan.\",\n",
    "\"Delapan dari sepuluh pembeli memilih untuk memberikan donasi.\",\n",
    "\"Menurut anda mengapa banyak dari pembeli yang memilih berdonasi?\"]"
   ]
  },
  {
   "cell_type": "code",
   "execution_count": 20,
   "id": "5e21a698",
   "metadata": {},
   "outputs": [
    {
     "name": "stdout",
     "output_type": "stream",
     "text": [
      "<class 'pandas.core.frame.DataFrame'>\n",
      "RangeIndex: 268 entries, 0 to 267\n",
      "Data columns (total 3 columns):\n",
      " #   Column    Non-Null Count  Dtype \n",
      "---  ------    --------------  ----- \n",
      " 0   RES_ID    268 non-null    object\n",
      " 1   RESPONSE  268 non-null    object\n",
      " 2   LABEL     268 non-null    int64 \n",
      "dtypes: int64(1), object(2)\n",
      "memory usage: 6.4+ KB\n",
      "None\n",
      "       RES_ID                                           RESPONSE       LABEL\n",
      "count     268                                                268  268.000000\n",
      "unique    268                                                265         NaN\n",
      "top      TRA1  Pengungsi iklim adalah orang-orang yang terpak...         NaN\n",
      "freq        1                                                  3         NaN\n",
      "mean      NaN                                                NaN    0.712687\n",
      "std       NaN                                                NaN    0.453356\n",
      "min       NaN                                                NaN    0.000000\n",
      "25%       NaN                                                NaN    0.000000\n",
      "50%       NaN                                                NaN    1.000000\n",
      "75%       NaN                                                NaN    1.000000\n",
      "max       NaN                                                NaN    1.000000\n",
      "<class 'pandas.core.frame.DataFrame'>\n",
      "RangeIndex: 305 entries, 0 to 304\n",
      "Data columns (total 3 columns):\n",
      " #   Column    Non-Null Count  Dtype \n",
      "---  ------    --------------  ----- \n",
      " 0   RES_ID    305 non-null    object\n",
      " 1   RESPONSE  305 non-null    object\n",
      " 2   LABEL     305 non-null    int64 \n",
      "dtypes: int64(1), object(2)\n",
      "memory usage: 7.3+ KB\n",
      "None\n",
      "       RES_ID                                           RESPONSE       LABEL\n",
      "count     305                                                305  305.000000\n",
      "unique    305                                                301         NaN\n",
      "top      TRB1  Sebagai upaya untuk membuat produksi pakaian m...         NaN\n",
      "freq        1                                                  2         NaN\n",
      "mean      NaN                                                NaN    0.550820\n",
      "std       NaN                                                NaN    0.498228\n",
      "min       NaN                                                NaN    0.000000\n",
      "25%       NaN                                                NaN    0.000000\n",
      "50%       NaN                                                NaN    1.000000\n",
      "75%       NaN                                                NaN    1.000000\n",
      "max       NaN                                                NaN    1.000000\n"
     ]
    }
   ],
   "source": [
    "print(train_a.info())\n",
    "print(train_a.describe(include='all'))  \n",
    "print(train_b.info())\n",
    "print(train_b.describe(include='all'))  "
   ]
  },
  {
   "cell_type": "code",
   "execution_count": 23,
   "id": "ecb777f6",
   "metadata": {},
   "outputs": [
    {
     "data": {
      "image/png": "[encoded data removed]",
      "text/plain": [
       "<Figure size 640x480 with 1 Axes>"
      ]
     },
     "metadata": {},
     "output_type": "display_data"
    },
    {
     "data": {
      "image/png": "[encoded data removed]",
      "text/plain": [
       "<Figure size 640x480 with 1 Axes>"
      ]
     },
     "metadata": {},
     "output_type": "display_data"
    }
   ],
   "source": [
    "sns.countplot(x='LABEL', data=train_a)\n",
    "plt.title('Distribusi Label (Data_A Train)')\n",
    "plt.show()\n",
    "\n",
    "sns.countplot(x='LABEL', data=train_b)\n",
    "plt.title('Distribusi Label (Data_B Train)')\n",
    "plt.show()"
   ]
  },
  {
   "cell_type": "markdown",
   "id": "29993b6e",
   "metadata": {},
   "source": [
    "# Opsi\n",
    "\n",
    "1. Bert prepocessing + Model\n",
    "2. Bert Prepocessing, Model Neural\n",
    "3. Bert ...\n"
   ]
  },
  {
   "cell_type": "markdown",
   "id": "2b353352",
   "metadata": {},
   "source": []
  }
 ],
 "metadata": {
  "kernelspec": {
   "display_name": "MLEnv",
   "language": "python",
   "name": "python3"
  },
  "language_info": {
   "codemirror_mode": {
    "name": "ipython",
    "version": 3
   },
   "file_extension": ".py",
   "mimetype": "text/x-python",
   "name": "python",
   "nbconvert_exporter": "python",
   "pygments_lexer": "ipython3",
   "version": "3.12.5"
  }
 },
 "nbformat": 4,
 "nbformat_minor": 5
}
